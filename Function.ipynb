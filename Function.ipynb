{
  "nbformat": 4,
  "nbformat_minor": 0,
  "metadata": {
    "colab": {
      "provenance": []
    },
    "kernelspec": {
      "name": "python3",
      "display_name": "Python 3"
    },
    "language_info": {
      "name": "python"
    }
  },
  "cells": [
    {
      "cell_type": "code",
      "execution_count": null,
      "metadata": {
        "id": "zPzf03-hhlfN"
      },
      "outputs": [],
      "source": []
    },
    {
      "cell_type": "markdown",
      "source": [
        "Qns -1  What is the difference between a function and a method in Python?\n",
        "\n",
        "Ans- A function is a standalone block of code, while a method is a function that is part of a class and operates on instances of that class.\n",
        "\n",
        "Key Differences:\n",
        "\n",
        "Location: A function can be defined anywhere in your code, while a method is always part of a class.\n",
        "\n",
        "Binding: A method is bound to the object (or class) and typically operates on the data within the object. A function is independent of any object.\n",
        "\n",
        "Usage: You call functions directly, while methods are called on objects or classes (using dot notation)."
      ],
      "metadata": {
        "id": "b1vhsQ4mhraH"
      }
    },
    {
      "cell_type": "markdown",
      "source": [
        "Qns-2  Explain the concept of function arguments and parameters in Python.\n",
        "\n",
        "Ans-\n",
        " **Function Parameters**-\n",
        "A parameter is a variable that is defined in the function definition. It acts as a placeholder that expects a value when the function is called. You define parameters inside the parentheses in the function definition.\n",
        "\n",
        "**Function Arguments**-\n",
        "An argument is the actual value that you pass to a function when you call it. The arguments are assigned to the corresponding parameters in the function definition.\n",
        "\n",
        "Example-\n",
        "\n",
        "def greet(name):  # 'name' is a parameter\n",
        "    print(f\"Hello, {name}!\")\n",
        "\n",
        "greet(\"Alice\")  # \"Alice\" is an argument\n"
      ],
      "metadata": {
        "id": "1nPpMyJyi4DL"
      }
    },
    {
      "cell_type": "markdown",
      "source": [
        "Qns-3 What are the different ways to define and call a function in Python?\n",
        "\n",
        "Ans- In Python, there are several ways to define and call a function, each offering different functionalities or use cases. Let's explore the different ways:\n",
        "\n",
        "\n",
        "\n",
        "1.   Basic function: The most common way to define and call a function is using the def keyword. def function_name()\n",
        "\n",
        "2. Function with default arguments: def function_name(arg=default)\n",
        "\n",
        "3. Variable-length arguments (*args and **kwargs)\n",
        "\n",
        "4. Lambda functions: lambda arguments: expression\n",
        "\n",
        "5. Function passed as an argument\n",
        "\n",
        "6. Recursive function\n",
        "\n",
        "7. Function with return value: return value\n",
        "\n",
        "8. Multiple return values (via tuples)\n",
        "\n",
        "9. Dynamic function calls using globals() or locals()\n",
        "\n",
        "10. Methods inside classes\n",
        "\n"
      ],
      "metadata": {
        "id": "3KowQHrjkZWV"
      }
    },
    {
      "cell_type": "markdown",
      "source": [
        "Qns-4 What is the purpose of the `return` statement in a Python function?\n",
        "\n",
        "Ans- The primary purpose of the return statement is to return a value from a function back to the caller. When a function completes its execution, the return statement sends the result back to the place where the function was called.\n",
        "\n",
        "Example\n",
        "def add(a, b):\n",
        "    return a + b  # Return the sum of a and b\n",
        "\n",
        "result = add(3, 4)  # Call the function and store the returned value\n",
        "print(result)  # Output: 7\n"
      ],
      "metadata": {
        "id": "xK0iE7B6mIpS"
      }
    },
    {
      "cell_type": "markdown",
      "source": [
        "Qns-5 What are iterators in Python and how do they differ from iterables?\n",
        "\n",
        "Ans- 1. Iterable-\n",
        "An iterable is any object in Python that can be iterated over (looped through) using a for loop. An iterable is an object that implements the __iter__() method or the __getitem__() method.\n",
        "\n",
        "An iterable object provides an iterator by calling its __iter__() method.\n",
        "\n",
        "Examples of iterables: lists, tuples, dictionaries, strings, sets, etc.\n",
        "\n",
        "2. Iterator-\n",
        "An iterator is an object that represents a stream of data and keeps track of its position during iteration. An iterator is an object that implements two methods: __iter__() and __next__().\n",
        "\n",
        "__iter__(): Returns the iterator object itself (this is usually self).\n",
        "\n",
        "__next__(): Returns the next item from the data stream. When there are no more items to return, it raises the StopIteration exception to signal that iteration is complete."
      ],
      "metadata": {
        "id": "pE6tBplumv-j"
      }
    },
    {
      "cell_type": "markdown",
      "source": [
        "Qns 6 . Explain the concept of generators in Python and how they are defined.\n",
        "\n",
        "Ans- A generator in Python is a special type of iterator that allows you to iterate over a sequence of values, but generators do not store the entire sequence in memory. Instead, they generate items one at a time, which makes them memory-efficient, especially for large datasets or infinite sequences.\n",
        "\n",
        "Generators are defined using a function with the yield keyword. When a function contains yield, it is considered a generator function, and calling this function returns a generator object. Each time yield is encountered, the function's state is saved, and the yielded value is returned to the caller. The next time next() is called on the generator, the function resumes from where it left off."
      ],
      "metadata": {
        "id": "G6GKqf55nPP6"
      }
    },
    {
      "cell_type": "markdown",
      "source": [
        "Qns-7 What are the advantages of using generators over regular functions?\n",
        "\n",
        "Ans-\n",
        "* Memory Efficiency-\tOnly stores the current value, saving memory.\n",
        "\n",
        "* Lazy Evaluation-\tComputes values on demand (lazily).\n",
        "\n",
        "* Handling Infinite Sequences-\tCan easily represent infinite sequences.\n",
        "\n",
        "* Performance-\tMore efficient for large data, as values are generated on-the-fly.\n",
        "\n",
        "* Code Simplicity-\tMore concise and cleaner for generating sequences or processing large data.\n",
        "\n"
      ],
      "metadata": {
        "id": "wDwYFvXpn2CU"
      }
    },
    {
      "cell_type": "markdown",
      "source": [
        "Qns-8 What is a lambda function in Python and when is it typically used?\n",
        "\n",
        "Ans- A lambda function in Python is a small, anonymous (unnamed) function defined using the lambda keyword. It allows you to create simple functions in a more compact form compared to regular functions defined using the def keyword.\n",
        "\n",
        "syntax-   lambda arguments: expression\n",
        "\n",
        "# A simple lambda function that adds 2 to its input\n",
        "add_two = lambda x: x + 2\n",
        "\n",
        "# Calling the lambda function\n",
        "print(add_two(5))  # Output: 7\n",
        "\n",
        "\n",
        "When Lambda Functions Are Typically Used:\n",
        "\n",
        "Lambda functions are often used when:\n",
        "\n",
        "* You need a short, throwaway function.\n",
        "\n",
        "* You want to define a function inline, without the need for a full function definition.\n",
        "\n",
        "* The function is used temporarily, often as an argument to higher-order functions like map(), filter(), or sorted()."
      ],
      "metadata": {
        "id": "eCjNURNdoxjO"
      }
    },
    {
      "cell_type": "markdown",
      "source": [
        "Qns-9  Explain the purpose and usage of the `map()` function in Python\n",
        "\n",
        "Ans- The map() function in Python is a built-in function that allows you to apply a given function to each item in an iterable (e.g., a list, tuple, etc.) and returns an iterator that yields the results.\n",
        "\n",
        "Syntax- map(function, iterable, ...)\n",
        "\n",
        "Usage of map()-\n",
        "\n",
        "When you need to apply the same function to every item in an iterable (e.g., list, tuple, etc.).\n",
        "\n",
        "When you want to perform transformations on data without using an explicit loop.\n",
        "\n",
        "When you need to apply a function to multiple iterables in parallel, and the function takes multiple arguments.\n",
        "\n",
        "For functional programming styles, where you avoid explicit loops and use higher-order functions like map(), filter(), and reduce()."
      ],
      "metadata": {
        "id": "XpPRZ0v2p2GP"
      }
    },
    {
      "cell_type": "markdown",
      "source": [
        "Qns-10  What is the difference between `map()`, `reduce()`, and `filter()` functions in Python?\n",
        "\n",
        "Ans-  \n",
        "* map(): When you want to transform each element of an iterable using a function.\n",
        "\n",
        "Example: Doubling each number in a list, converting each string to lowercase, etc.\n",
        "\n",
        "numbers = [1, 2, 3, 4]\n",
        "\n",
        "squared_numbers = map(lambda x: x**2, numbers)\n",
        "\n",
        "print(list(squared_numbers))  # Output: [1, 4, 9, 16]\n",
        "\n",
        "\n",
        "* reduce(): When you need to accumulate or aggregate values from an iterable into a single result.\n",
        "\n",
        "Example: Summing numbers, multiplying all elements, finding the maximum or minimum value, etc.\n",
        "\n",
        "from functools import reduce\n",
        "\n",
        "numbers = [1, 2, 3, 4]\n",
        "\n",
        "product = reduce(lambda x, y: x * y, numbers)\n",
        "\n",
        "print(product)  # Output: 24\n",
        "\n",
        "\n",
        "* filter(): When you want to filter an iterable by retaining only elements that satisfy a condition.\n",
        "\n",
        "Example: Extracting all even numbers from a list, selecting strings with more than 5 characters, etc.\n",
        "\n",
        "numbers = [1, 2, 3, 4, 5, 6]\n",
        "\n",
        "even_numbers = filter(lambda x: x % 2 == 0, numbers)\n",
        "\n",
        "print(list(even_numbers))  # Output: [2, 4, 6]\n"
      ],
      "metadata": {
        "id": "084-wWOirFTu"
      }
    },
    {
      "cell_type": "markdown",
      "source": [
        "Qns-11  Using pen & Paper write the internal mechanism for sum operation using  reduce function on this given\n",
        "list:[47,11,42,13];"
      ],
      "metadata": {
        "id": "dTDnS4tjs9jS"
      }
    },
    {
      "cell_type": "markdown",
      "source": [
        "https://drive.google.com/file/d/1kN5Fjw0mKVSfJ5OgcjqvfshQ7wC_2wHR/view?usp=drive_link"
      ],
      "metadata": {
        "id": "VxWINiemEE9E"
      }
    },
    {
      "cell_type": "markdown",
      "source": [
        "Qns-1  Write a Python function that takes a list of numbers as input and returns the sum of all even numbers in\n",
        "the list."
      ],
      "metadata": {
        "id": "UN4zIusBENH1"
      }
    },
    {
      "cell_type": "code",
      "source": [
        "#Answer\n",
        "def sum_of_even_numbers(numbers):\n",
        "    even_numbers = filter(lambda x: x % 2 == 0, numbers)\n",
        "    total_sum = sum(even_numbers)\n",
        "\n",
        "    return total_sum\n",
        "user_input = input(\"Enter a list of numbers separated by spaces: \")\n",
        "numbers = list(map(int, user_input.split()))\n",
        "result = sum_of_even_numbers(numbers)\n",
        "print(\"Sum of even numbers:\", result)\n"
      ],
      "metadata": {
        "colab": {
          "base_uri": "https://localhost:8080/"
        },
        "id": "aX3o4c2yEPNX",
        "outputId": "202689fb-5d76-4292-f2c5-7fc3173d0b1c"
      },
      "execution_count": 9,
      "outputs": [
        {
          "output_type": "stream",
          "name": "stdout",
          "text": [
            "Enter a list of numbers separated by spaces: 25 30 50 40 90 \n",
            "Sum of even numbers: 210\n"
          ]
        }
      ]
    },
    {
      "cell_type": "markdown",
      "source": [
        "Qns-2 Create a Python function that accepts a string and returns the reverse of that string?"
      ],
      "metadata": {
        "id": "AwBpwlROHVJF"
      }
    },
    {
      "cell_type": "code",
      "source": [
        "def reverse_string(input_string):\n",
        "    return input_string[::-1]\n",
        "\n",
        "user_input = input(\"Enter a string: \")\n",
        "reversed_string = reverse_string(user_input)\n",
        "print(\"Reversed string:\", reversed_string)\n"
      ],
      "metadata": {
        "colab": {
          "base_uri": "https://localhost:8080/"
        },
        "id": "5CCpTB3JHb_4",
        "outputId": "528b1e3d-b156-4806-c00b-6d960de14e0c"
      },
      "execution_count": 21,
      "outputs": [
        {
          "output_type": "stream",
          "name": "stdout",
          "text": [
            "Enter a string: shubhanker\n",
            "Reversed string: reknahbuhs\n"
          ]
        }
      ]
    },
    {
      "cell_type": "markdown",
      "source": [
        "Qns3 Implement a Python function that takes a list of integers and returns a new list containing the squares of\n",
        "each number."
      ],
      "metadata": {
        "id": "rB1vBUflJdML"
      }
    },
    {
      "cell_type": "code",
      "source": [
        "#Answer\n",
        "def square_numbers(numbers):\n",
        "    squared_numbers = map(lambda x: x**2, numbers)\n",
        "    return list(squared_numbers)\n",
        "user_input = input(\"Enter a list of numbers separated by spaces: \")\n",
        "numbers = list(map(int, user_input.split()))\n",
        "result = square_numbers(numbers)\n",
        "print(\"Squared numbers:\", result)"
      ],
      "metadata": {
        "colab": {
          "base_uri": "https://localhost:8080/"
        },
        "id": "WIBKfq38LSNo",
        "outputId": "0f875c5f-7784-42d9-bec8-178c5044fdb4"
      },
      "execution_count": 24,
      "outputs": [
        {
          "output_type": "stream",
          "name": "stdout",
          "text": [
            "Enter a list of numbers separated by spaces: 1 2 3 4\n",
            "Squared numbers: [1, 4, 9, 16]\n"
          ]
        }
      ]
    },
    {
      "cell_type": "markdown",
      "source": [
        "Qns-4  Write a Python function that checks if a given number is prime or not from 1 to 200."
      ],
      "metadata": {
        "id": "b3i3pkcQENE-"
      }
    },
    {
      "cell_type": "code",
      "source": [
        "#Answer\n",
        "def is_prime(n):\n",
        "    if n <= 1:\n",
        "        return False  # 0 and 1 are not prime numbers\n",
        "    for i in range(2, int(n**0.5) + 1):\n",
        "        if n % i == 0:\n",
        "            return False  # n is divisible by i, so it's not prime\n",
        "    return True  # n is prime\n",
        "\n",
        "# Example usage: Checking prime numbers between 1 and 200\n",
        "for number in range(1, 201):\n",
        "    if is_prime(number):\n",
        "        print(number)\n",
        "\n"
      ],
      "metadata": {
        "colab": {
          "base_uri": "https://localhost:8080/"
        },
        "collapsed": true,
        "id": "eCZNz4MqNOHX",
        "outputId": "415e43b0-6731-49b9-bb51-7aae7daa956e"
      },
      "execution_count": 25,
      "outputs": [
        {
          "output_type": "stream",
          "name": "stdout",
          "text": [
            "2\n",
            "3\n",
            "5\n",
            "7\n",
            "11\n",
            "13\n",
            "17\n",
            "19\n",
            "23\n",
            "29\n",
            "31\n",
            "37\n",
            "41\n",
            "43\n",
            "47\n",
            "53\n",
            "59\n",
            "61\n",
            "67\n",
            "71\n",
            "73\n",
            "79\n",
            "83\n",
            "89\n",
            "97\n",
            "101\n",
            "103\n",
            "107\n",
            "109\n",
            "113\n",
            "127\n",
            "131\n",
            "137\n",
            "139\n",
            "149\n",
            "151\n",
            "157\n",
            "163\n",
            "167\n",
            "173\n",
            "179\n",
            "181\n",
            "191\n",
            "193\n",
            "197\n",
            "199\n"
          ]
        }
      ]
    },
    {
      "cell_type": "markdown",
      "source": [
        "Qns 5  Create an iterator class in Python that generates the Fibonacci sequence up to a specified number of **terms**"
      ],
      "metadata": {
        "id": "iBTcZ5EHN_e0"
      }
    },
    {
      "cell_type": "code",
      "source": [
        "#Ans\n",
        "class FibonacciIterator:\n",
        "    def __init__(self, terms):\n",
        "        self.terms = terms  # Number of terms in the Fibonacci sequence\n",
        "        self.count = 0  # Counter to keep track of the number of terms generated\n",
        "        self.a, self.b = 0, 1  # First two numbers of the Fibonacci sequence\n",
        "\n",
        "    def __iter__(self):\n",
        "        return self  # The iterator object is itself\n",
        "\n",
        "    def __next__(self):\n",
        "        if self.count >= self.terms:\n",
        "            raise StopIteration  # Stop iteration when the number of terms exceeds the specified limit\n",
        "        current_value = self.a\n",
        "        self.a, self.b = self.b, self.a + self.b  # Update Fibonacci sequence\n",
        "        self.count += 1\n",
        "        return current_value\n",
        "\n",
        "# Example usage:\n",
        "num_terms = 30  # Generate the first 10 Fibonacci numbers\n",
        "fib_iterator = FibonacciIterator(num_terms)\n",
        "\n",
        "for num in fib_iterator:\n",
        "    print(num)\n"
      ],
      "metadata": {
        "colab": {
          "base_uri": "https://localhost:8080/"
        },
        "collapsed": true,
        "id": "TvdtAv3hUM-R",
        "outputId": "ded3a92a-00e6-4527-a009-c163df11b5c2"
      },
      "execution_count": 34,
      "outputs": [
        {
          "output_type": "stream",
          "name": "stdout",
          "text": [
            "0\n",
            "1\n",
            "1\n",
            "2\n",
            "3\n",
            "5\n",
            "8\n",
            "13\n",
            "21\n",
            "34\n",
            "55\n",
            "89\n",
            "144\n",
            "233\n",
            "377\n",
            "610\n",
            "987\n",
            "1597\n",
            "2584\n",
            "4181\n",
            "6765\n",
            "10946\n",
            "17711\n",
            "28657\n",
            "46368\n",
            "75025\n",
            "121393\n",
            "196418\n",
            "317811\n",
            "514229\n"
          ]
        }
      ]
    },
    {
      "cell_type": "markdown",
      "source": [
        "Qns-6  Write a generator function in Python that yields the powers of 2 up to a given exponent."
      ],
      "metadata": {
        "id": "UvGlJVWyP_HD"
      }
    },
    {
      "cell_type": "code",
      "source": [
        "#Answer\n",
        "\n",
        "def powers_of_two(exponent):\n",
        "    for i in range(exponent + 1):\n",
        "        yield 2 ** i\n",
        "\n",
        "# Example usage:\n",
        "exponent = 5  # Powers of 2 up to 2^5\n",
        "for power in powers_of_two(exponent):\n",
        "    print(power)\n"
      ],
      "metadata": {
        "colab": {
          "base_uri": "https://localhost:8080/"
        },
        "collapsed": true,
        "id": "loHZbzTyPdpr",
        "outputId": "0d7ca70e-bb3f-41d3-e4c1-07fd0d1355dc"
      },
      "execution_count": 26,
      "outputs": [
        {
          "output_type": "stream",
          "name": "stdout",
          "text": [
            "1\n",
            "2\n",
            "4\n",
            "8\n",
            "16\n",
            "32\n"
          ]
        }
      ]
    },
    {
      "cell_type": "markdown",
      "source": [
        "  Qns-7 Implement a generator function that reads a file line by line and yields each line as a string."
      ],
      "metadata": {
        "id": "dR4eSoAsP48c"
      }
    },
    {
      "cell_type": "code",
      "source": [
        "#ans\n",
        "def read_file_line_by_line(file_path):\n",
        "    with open(file_path, 'r') as file:\n",
        "        for line in file:\n",
        "            yield line.strip()  # strip() is used to remove any trailing newlines or spaces\n",
        "\n",
        "# Example usage:\n",
        "file_path = 'example.txt'  # Replace with your actual file path\n",
        "for line in read_file_line_by_line(file_path):\n",
        "    print(line)\n"
      ],
      "metadata": {
        "collapsed": true,
        "id": "AcU-b-NQRIfF"
      },
      "execution_count": null,
      "outputs": []
    },
    {
      "cell_type": "markdown",
      "source": [
        "Qns-8  Use a lambda function in Python to sort a list of tuples based on the second element of each tuple."
      ],
      "metadata": {
        "id": "qw4XhJ2jSBgx"
      }
    },
    {
      "cell_type": "code",
      "source": [
        "#ans\n",
        "\n",
        "tuples_list = [(1, 3), (2, 2), (4, 1), (5, 4)]\n",
        "\n",
        "# Sorting the list based on the second element of each tuple using a lambda function\n",
        "sorted_list = sorted(tuples_list, key=lambda x: x[1])\n",
        "\n",
        "# Printing the sorted list\n",
        "print(sorted_list)\n"
      ],
      "metadata": {
        "colab": {
          "base_uri": "https://localhost:8080/"
        },
        "id": "dZMe9pUpSai4",
        "outputId": "32fccc54-3713-4bd8-c1d4-29e5e5c5965e"
      },
      "execution_count": 30,
      "outputs": [
        {
          "output_type": "stream",
          "name": "stdout",
          "text": [
            "[(4, 1), (2, 2), (1, 3), (5, 4)]\n"
          ]
        }
      ]
    },
    {
      "cell_type": "markdown",
      "source": [
        "Qns-9  Write a Python program that uses `map()` to convert a list of temperatures from Celsius to Fahrenheit."
      ],
      "metadata": {
        "id": "1XDNWtIISrkY"
      }
    },
    {
      "cell_type": "code",
      "source": [
        "#Ans\n",
        "celsius_temps = [0, 10, 20, 30, 40, 50]\n",
        "\n",
        "# Function to convert Celsius to Fahrenheit\n",
        "def celsius_to_fahrenheit(celsius):\n",
        "    return (celsius * 9/5) + 32\n",
        "\n",
        "# Using map to apply the conversion function to each element in the list\n",
        "fahrenheit_temps = list(map(celsius_to_fahrenheit, celsius_temps))\n",
        "\n",
        "# Printing the result\n",
        "print(fahrenheit_temps)\n"
      ],
      "metadata": {
        "colab": {
          "base_uri": "https://localhost:8080/"
        },
        "id": "i5UqA5MPSxbe",
        "outputId": "09aadb1b-b675-4e6e-de16-b8b2363ac772"
      },
      "execution_count": 31,
      "outputs": [
        {
          "output_type": "stream",
          "name": "stdout",
          "text": [
            "[32.0, 50.0, 68.0, 86.0, 104.0, 122.0]\n"
          ]
        }
      ]
    },
    {
      "cell_type": "markdown",
      "source": [
        "Qns-10 Create a Python program that uses `filter()` to remove all the vowels from a given string."
      ],
      "metadata": {
        "id": "s_j4TJcVTDCd"
      }
    },
    {
      "cell_type": "code",
      "source": [
        "#Ans\n",
        "# Function to check if a character is not a vowel\n",
        "def is_not_vowel(char):\n",
        "    return char.lower() not in 'aeiou'\n",
        "\n",
        "# Given string\n",
        "input_string = \"Hello, World!\"\n",
        "\n",
        "# Using filter to remove vowels and converting the result to a list of characters\n",
        "filtered_string = list(filter(is_not_vowel, input_string))\n",
        "\n",
        "# Printing the result\n",
        "print(''.join(filtered_string))\n"
      ],
      "metadata": {
        "colab": {
          "base_uri": "https://localhost:8080/"
        },
        "id": "tqeObveRTIl9",
        "outputId": "742b6a73-bb5e-48e6-de12-2c569c145197"
      },
      "execution_count": 32,
      "outputs": [
        {
          "output_type": "stream",
          "name": "stdout",
          "text": [
            "Hll, Wrld!\n"
          ]
        }
      ]
    },
    {
      "cell_type": "markdown",
      "source": [
        "Qns-11 11) Imagine an accounting routine used in a book shop. It works on a list with sublists, which look like this:\n",
        "\n",
        "\n",
        "\n",
        "\n",
        "\n",
        "\n",
        "\n",
        "Write a Python program, which returns a list with 2-tuples. Each tuple consists of the order number and the\n",
        "product of the price per item and the quantity. The product should be increased by 10,- € if the value of the\n",
        "order is smaller than 100,00 €.\n",
        "\n",
        "Write a Python program using lambda and map"
      ],
      "metadata": {
        "id": "cX5CsQcVXhtR"
      }
    },
    {
      "cell_type": "code",
      "source": [
        "#Ans\n",
        "# Sample input list\n",
        "orders = [\n",
        "    [\"34587\", \"Learning Python, Mark Lutz\", 4, 40.95],\n",
        "    [\"98762\", \"Programming Python, Mark Lutz\", 5, 56.80],\n",
        "    [\"77226\", \"Head First Python, Paul Barry\", 3, 32.95],\n",
        "    [\"88112\", \"Einführung in Python 3, Bernd Klein\", 3, 24.99]\n",
        "]\n",
        "\n",
        "# Function to calculate total value and apply surcharge if necessary\n",
        "def calculate_order(order):\n",
        "    order_number, product_name, quantity, price = order\n",
        "    total_value = price * quantity\n",
        "    if total_value < 100:\n",
        "        total_value += 10  # Add 10€ surcharge if the value is below 100€\n",
        "    return (order_number, total_value)\n",
        "\n",
        "# Using map() and lambda to apply the function to each order\n",
        "order_totals = list(map(lambda order: calculate_order(order), orders))\n",
        "\n",
        "# Print the result\n",
        "print(order_totals)\n"
      ],
      "metadata": {
        "colab": {
          "base_uri": "https://localhost:8080/"
        },
        "id": "qU5rIcsPX8Ow",
        "outputId": "7e047e87-b067-4d53-c9d0-dcf2a56be83c"
      },
      "execution_count": 35,
      "outputs": [
        {
          "output_type": "stream",
          "name": "stdout",
          "text": [
            "[('34587', 163.8), ('98762', 284.0), ('77226', 108.85000000000001), ('88112', 84.97)]\n"
          ]
        }
      ]
    }
  ]
}